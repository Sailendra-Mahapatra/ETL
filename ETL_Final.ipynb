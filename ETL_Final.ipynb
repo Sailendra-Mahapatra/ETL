{
 "cells": [
  {
   "cell_type": "code",
   "execution_count": 18,
   "metadata": {},
   "outputs": [],
   "source": [
    "# Populating data into a dataframe, cleaning and creating into an HTML table\n",
    "\n",
    "import pandas as pd\n",
    "import csv\n",
    "import os\n",
    "import time\n",
    "import pymongo\n"
   ]
  },
  {
   "cell_type": "code",
   "execution_count": 62,
   "metadata": {},
   "outputs": [
    {
     "name": "stdout",
     "output_type": "stream",
     "text": [
      "     County  Date  Sales  Dollar Volume  Average Price  Median Price  \\\n",
      "0  Anderson  2011     21        2283718         108724         86696   \n",
      "1  Anderson  2012     27        3364345         123745         98454   \n",
      "2  Anderson  2013     25        3109887         120505         95175   \n",
      "3  Anderson  2014     29        3803191         129666        101063   \n",
      "4  Anderson  2015     29        3975229         136074        109638   \n",
      "\n",
      "   Total Lisings  Months Inventory  \n",
      "0            396                24  \n",
      "1            358                16  \n",
      "2            343                13  \n",
      "3            283                10  \n",
      "4            239                 9  \n"
     ]
    }
   ],
   "source": [
    "county_csv_path = \"./county_selected.csv\"\n",
    "data =[]\n",
    "\n",
    "with open(county_csv_path, newline=\"\") as csvfile:\n",
    "    csv_reader = csv.reader(csvfile, delimiter=\",\")\n",
    "    data = pd.read_csv(\"county_selected.csv\")\n",
    "\n",
    "    print (data.head(5))"
   ]
  },
  {
   "cell_type": "code",
   "execution_count": null,
   "metadata": {},
   "outputs": [],
   "source": [
    "# Initializing data base"
   ]
  },
  {
   "cell_type": "code",
   "execution_count": 19,
   "metadata": {},
   "outputs": [],
   "source": [
    "conn = \"mongodb://localhost:27017\"\n",
    "client = pymongo.MongoClient(conn)"
   ]
  },
  {
   "cell_type": "code",
   "execution_count": 20,
   "metadata": {},
   "outputs": [],
   "source": [
    "# Creating mongo data base\n",
    "\n",
    "db = client.housing_income\n",
    "collection = db.housing_price"
   ]
  },
  {
   "cell_type": "code",
   "execution_count": 65,
   "metadata": {},
   "outputs": [
    {
     "data": {
      "text/plain": [
       "[{'County': 'Anderson',\n",
       "  'Date': 2011,\n",
       "  'Sales': 21,\n",
       "  '_3': 2283718,\n",
       "  '_4': 108724,\n",
       "  '_5': 86696,\n",
       "  '_6': 396,\n",
       "  '_7': 24},\n",
       " {'County': 'Anderson',\n",
       "  'Date': 2012,\n",
       "  'Sales': 27,\n",
       "  '_3': 3364345,\n",
       "  '_4': 123745,\n",
       "  '_5': 98454,\n",
       "  '_6': 358,\n",
       "  '_7': 16},\n",
       " {'County': 'Anderson',\n",
       "  'Date': 2013,\n",
       "  'Sales': 25,\n",
       "  '_3': 3109887,\n",
       "  '_4': 120505,\n",
       "  '_5': 95175,\n",
       "  '_6': 343,\n",
       "  '_7': 13},\n",
       " {'County': 'Anderson',\n",
       "  'Date': 2014,\n",
       "  'Sales': 29,\n",
       "  '_3': 3803191,\n",
       "  '_4': 129666,\n",
       "  '_5': 101063,\n",
       "  '_6': 283,\n",
       "  '_7': 10},\n",
       " {'County': 'Anderson',\n",
       "  'Date': 2015,\n",
       "  'Sales': 29,\n",
       "  '_3': 3975229,\n",
       "  '_4': 136074,\n",
       "  '_5': 109638,\n",
       "  '_6': 239,\n",
       "  '_7': 9},\n",
       " {'County': 'Anderson',\n",
       "  'Date': 2016,\n",
       "  'Sales': 35,\n",
       "  '_3': 4725862,\n",
       "  '_4': 134604,\n",
       "  '_5': 122322,\n",
       "  '_6': 199,\n",
       "  '_7': 6},\n",
       " {'County': 'Anderson',\n",
       "  'Date': 2017,\n",
       "  'Sales': 33,\n",
       "  '_3': 4947390,\n",
       "  '_4': 146080,\n",
       "  '_5': 113656,\n",
       "  '_6': 185,\n",
       "  '_7': 6},\n",
       " {'County': 'Anderson',\n",
       "  'Date': 2018,\n",
       "  'Sales': 33,\n",
       "  '_3': 4941895,\n",
       "  '_4': 146087,\n",
       "  '_5': 122646,\n",
       "  '_6': 161,\n",
       "  '_7': 5},\n",
       " {'County': 'Angelina ',\n",
       "  'Date': 2011,\n",
       "  'Sales': 42,\n",
       "  '_3': 5313962,\n",
       "  '_4': 126195,\n",
       "  '_5': 105875,\n",
       "  '_6': 343,\n",
       "  '_7': 8},\n",
       " {'County': 'Angelina ',\n",
       "  'Date': 2012,\n",
       "  'Sales': 43,\n",
       "  '_3': 6000630,\n",
       "  '_4': 137830,\n",
       "  '_5': 122242,\n",
       "  '_6': 361,\n",
       "  '_7': 8},\n",
       " {'County': 'Angelina ',\n",
       "  'Date': 2013,\n",
       "  'Sales': 47,\n",
       "  '_3': 6838934,\n",
       "  '_4': 145776,\n",
       "  '_5': 121988,\n",
       "  '_6': 367,\n",
       "  '_7': 8},\n",
       " {'County': 'Angelina ',\n",
       "  'Date': 2014,\n",
       "  'Sales': 52,\n",
       "  '_3': 7727520,\n",
       "  '_4': 147304,\n",
       "  '_5': 132083,\n",
       "  '_6': 404,\n",
       "  '_7': 8},\n",
       " {'County': 'Angelina ',\n",
       "  'Date': 2015,\n",
       "  'Sales': 50,\n",
       "  '_3': 7744371,\n",
       "  '_4': 152800,\n",
       "  '_5': 135338,\n",
       "  '_6': 345,\n",
       "  '_7': 7},\n",
       " {'County': 'Angelina ',\n",
       "  'Date': 2016,\n",
       "  'Sales': 55,\n",
       "  '_3': 8613704,\n",
       "  '_4': 155913,\n",
       "  '_5': 141329,\n",
       "  '_6': 341,\n",
       "  '_7': 7},\n",
       " {'County': 'Angelina ',\n",
       "  'Date': 2017,\n",
       "  'Sales': 59,\n",
       "  '_3': 9765539,\n",
       "  '_4': 165597,\n",
       "  '_5': 149156,\n",
       "  '_6': 310,\n",
       "  '_7': 5},\n",
       " {'County': 'Angelina ',\n",
       "  'Date': 2018,\n",
       "  'Sales': 60,\n",
       "  '_3': 10370104,\n",
       "  '_4': 174303,\n",
       "  '_5': 156515,\n",
       "  '_6': 282,\n",
       "  '_7': 5}]"
      ]
     },
     "execution_count": 65,
     "metadata": {},
     "output_type": "execute_result"
    }
   ],
   "source": [
    "# populating data base\n",
    "\n",
    "post = data.to_dict(orient = 'records')\n",
    "post"
   ]
  },
  {
   "cell_type": "code",
   "execution_count": 67,
   "metadata": {},
   "outputs": [
    {
     "data": {
      "text/plain": [
       "<pymongo.results.InsertManyResult at 0x114ec2d88>"
      ]
     },
     "execution_count": 67,
     "metadata": {},
     "output_type": "execute_result"
    }
   ],
   "source": [
    "db.collection.insert_many(post)"
   ]
  },
  {
   "cell_type": "code",
   "execution_count": 21,
   "metadata": {},
   "outputs": [],
   "source": [
    "# Retrieving annual wages from BLS.gov\n",
    "\n",
    "import requests\n",
    "import json\n",
    "#import prettytable"
   ]
  },
  {
   "cell_type": "code",
   "execution_count": 22,
   "metadata": {},
   "outputs": [],
   "source": [
    "collection = db.Annual_Wages"
   ]
  },
  {
   "cell_type": "code",
   "execution_count": 23,
   "metadata": {},
   "outputs": [],
   "source": [
    "# Wages for Anderson, TX county\n",
    "\n",
    "headers = {'Content-type': 'application/json'}\n",
    "data = json.dumps({\"seriesid\": ['ENU4800150010'],\"startyear\":\"2011\", \"endyear\":\"2018\"})\n",
    "p = requests.post('https://api.bls.gov/publicAPI/v2/timeseries/data/', data=data, headers=headers)\n",
    "json_data = json.loads(p.text)\n",
    "for series in json_data['Results']['series']:\n",
    "    #x=prettytable.PrettyTable([\"series id\",\"year\",\"period\",\"value\",\"footnotes\"])\n",
    "    seriesId = series['seriesID']\n",
    "    for item in series['data']:\n",
    "        year = item['year']\n",
    "        period = item['period']\n",
    "        value = item['value']\n",
    "        \n",
    "        post = {\n",
    "            'County':'Anderson',\n",
    "            'Date': year,\n",
    "            'Annual_Income': value\n",
    "            \n",
    "        }\n",
    "        \n",
    "        collection.insert_one(post)"
   ]
  },
  {
   "cell_type": "code",
   "execution_count": 24,
   "metadata": {},
   "outputs": [],
   "source": [
    "# Wages for Angelina, TX county\n",
    "\n",
    "headers = {'Content-type': 'application/json'}\n",
    "data = json.dumps({\"seriesid\": ['ENU4800550010'],\"startyear\":\"2011\", \"endyear\":\"2018\"})\n",
    "p = requests.post('https://api.bls.gov/publicAPI/v2/timeseries/data/', data=data, headers=headers)\n",
    "json_data = json.loads(p.text)\n",
    "for series in json_data['Results']['series']:\n",
    "    #x=prettytable.PrettyTable([\"series id\",\"year\",\"period\",\"value\",\"footnotes\"])\n",
    "    seriesId = series['seriesID']\n",
    "    for item in series['data']:\n",
    "        year = item['year']\n",
    "        period = item['period']\n",
    "        value = item['value']\n",
    "        \n",
    "        post = {\n",
    "            'County':'Angelina',\n",
    "            'Date': year,\n",
    "            'Annual_Income': value\n",
    "            \n",
    "        }\n",
    "        \n",
    "        collection.insert_one(post)"
   ]
  },
  {
   "cell_type": "code",
   "execution_count": null,
   "metadata": {},
   "outputs": [],
   "source": []
  }
 ],
 "metadata": {
  "kernelspec": {
   "display_name": "Python 3",
   "language": "python",
   "name": "python3"
  },
  "language_info": {
   "codemirror_mode": {
    "name": "ipython",
    "version": 3
   },
   "file_extension": ".py",
   "mimetype": "text/x-python",
   "name": "python",
   "nbconvert_exporter": "python",
   "pygments_lexer": "ipython3",
   "version": "3.6.8"
  }
 },
 "nbformat": 4,
 "nbformat_minor": 2
}
